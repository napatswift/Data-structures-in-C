{
  "nbformat": 4,
  "nbformat_minor": 0,
  "metadata": {
    "colab": {
      "name": "budget-extracting.ipynb",
      "provenance": [],
      "collapsed_sections": [],
      "authorship_tag": "ABX9TyMG03UsET0QpDhrpHEEBVUq",
      "include_colab_link": true
    },
    "kernelspec": {
      "name": "python3",
      "display_name": "Python 3"
    },
    "language_info": {
      "name": "python"
    }
  },
  "cells": [
    {
      "cell_type": "markdown",
      "metadata": {
        "id": "view-in-github",
        "colab_type": "text"
      },
      "source": [
        "<a href=\"https://colab.research.google.com/github/napatswift/Data-structures-in-C/blob/main/colab-test/budget_extracting.ipynb\" target=\"_parent\"><img src=\"https://colab.research.google.com/assets/colab-badge.svg\" alt=\"Open In Colab\"/></a>"
      ]
    },
    {
      "cell_type": "code",
      "metadata": {
        "id": "Aqs2Dxa4_Cxq"
      },
      "source": [
        "!pip install pdfminer.six\n",
        "!pip install pdfplumber"
      ],
      "execution_count": null,
      "outputs": []
    },
    {
      "cell_type": "code",
      "metadata": {
        "id": "ZLfQM11J_mYP"
      },
      "source": [
        "from pdfminer.high_level import extract_text, extract_pages\n",
        "from pdfminer.layout import LAParams, LTTextContainer\n",
        "import re\n",
        "import pdfplumber\n",
        "import pandas as pd\n",
        "import numpy as np"
      ],
      "execution_count": 155,
      "outputs": []
    },
    {
      "cell_type": "code",
      "metadata": {
        "id": "smK3qBfoMSDl"
      },
      "source": [
        "file_path = '/content/16.pdf'\n",
        "pdf = pdfplumber.open(file_path)"
      ],
      "execution_count": 5,
      "outputs": []
    },
    {
      "cell_type": "code",
      "metadata": {
        "id": "Mi8HlSba-akR"
      },
      "source": [
        "def get_text_from_page(num):\n",
        "  w = pdf.pages[num].width\n",
        "  h = pdf.pages[num].height\n",
        "  text = pdf.pages[num].within_bbox((0,0,w,h), relative=False).extract_text()\n",
        "  return text"
      ],
      "execution_count": 24,
      "outputs": []
    },
    {
      "cell_type": "code",
      "metadata": {
        "id": "L0kQ0w5aQIeM"
      },
      "source": [
        "repl = {'รายละเอียดงบประมาณจ าแนกตามงบรายจ่าย': 'รายละเอียดงบประมาณจำแนกตามงบรายจ่าย',\n",
        "        'บ ารุง':'บำรุง', 'ส�านัก': 'สำนัก' ,'อื\\n่น':\"อื่น\", 'ด าเนิน':'ดำเนิน', \"ที\\n่\":'ที่', 'เริ\\n่มต้น': 'เริ่มต้น',\n",
        "        'ตัวชี\\n้วัด':'ตัวชี้วัด', 'เป้ าหมาย':'เป้าหมาย', 'พื\\n้นฐาน':'พื้นฐาน', 'จ าแนก':'จำแนก',\n",
        "        'บิ\\n๊กดาต้า':'บิ๊กกาต้า', 'ก าหนด':'กำหนด', 'ผลสัมฤทธิ\\n์': 'ผลสัมฤทธิ์', 'อ าเภอ' : 'อำเภอ' ,\n",
        "        'ต าบล': 'ตำบล', 'ก ากับดูแล':'กำกับดูแล','ประจ า':'ประจำ', 'ที่ท าการ':'ที่ทำการ',\n",
        "        'ส านักงาน':'สำนักงาน', 'จัดท า':'จัดทำ', 'กรัมปรัะชาสำัมพัันัธ์์':'กรมประชาสัมพันธ์',\n",
        "        'สำ�นักง�น':'สำนักงาน', '\\t ':'\\t','ผู\\n้ปฏิบัติงาน':'ผู้ปฏิบัติงาน', 'เพิ\\n่ม':'เพิ่ม' , '':'' ,\n",
        "        'ล้า้าลำน':'ล่วงล้ำลำน้ำ','ล า':'ลำ', 'ส า':'สำ','ส�านักงา':'สำนักงาน',\n",
        "        'สำำานััก':'สำนัก', 'ก�ร':'การ','มห�ชน':'มหาชน', 'เครื\\n่อง':'เครื่อง', 'กระที่รวง':'กระทรวง' , '':'' ,\n",
        "        'เบี\\n้ย':'เบี้ย', 'ค่าเบี\\n้ยเลี\\n้ยง':'ค่าเบี้ยเลี้ยง', 'ทั\\n้งสิ\\n้น':'ทั้งสิ้น', 'ตั\\n้งงบ':'ตั้งงบ', 'ที่่�':'ที่'}\n",
        "\n",
        "def rep_t(Str):\n",
        "  if Str:\n",
        "    for a, b in repl.items():\n",
        "      Str = Str.replace(a, b)\n",
        "    return Str\n",
        "  else:\n",
        "    return ''\n",
        "\n",
        "def tn_to_arb(line):\n",
        "  num = ''\n",
        "  for char in line:\n",
        "    if char == '(':\n",
        "      break\n",
        "    if ord(char) >= ord('๐') and ord(char) <= ord('๙'):\n",
        "      num += str(ord(char) - ord('๐'))\n",
        "  return int(num)\n",
        "  \n",
        "# fixed_pages = [rep_t(x) for x in pages]"
      ],
      "execution_count": 15,
      "outputs": []
    },
    {
      "cell_type": "code",
      "metadata": {
        "id": "S5z6u0VmUqmV"
      },
      "source": [
        "def get_doc_info():\n",
        "  info = {'FY': 0, 'ฉบับ': 0, 'เล่ม': 0}\n",
        "\n",
        "  for i in range(4):\n",
        "    current_page = rep_t(get_text_from_page(i))\n",
        "    if current_page and 'เอกสารงบประมาณ' in current_page and 'ฉบับ' in current_page:\n",
        "      current_page = current_page.split('\\n')\n",
        "      issue = ''\n",
        "\n",
        "      for line in current_page[:-1]:\n",
        "        if 'ฉบับ' in line:\n",
        "          info['ฉบับ'] = tn_to_arb(line)\n",
        "        if 'พ.ศ.' in line:\n",
        "          info['FY'] = tn_to_arb(line) - 543\n",
        "        if 'เล่่ม' in line or 'เล่ม' in line:\n",
        "          info['เล่ม'] = tn_to_arb(line)\n",
        "        prev_line = line\n",
        "      break\n",
        "\n",
        "  id_pages = []\n",
        "  for i in range(30):\n",
        "    page = rep_t(get_text_from_page(i))\n",
        "    if page: \n",
        "      text = ''.join(get_text_from_page(i).split())\n",
        "    if re.findall('\\d+(ถึง|ถึึง)\\d+', text):\n",
        "      id_pages.append(i)\n",
        "\n",
        "  page_rage = []\n",
        "  ministry = ''\n",
        "  department = ''\n",
        "  ministries = []\n",
        "\n",
        "  for i in id_pages:\n",
        "    page = rep_t(get_text_from_page(i))\n",
        "    lines = [' '.join(x.split()) for x in page.split('\\n')]\n",
        "\n",
        "    for l in lines:\n",
        "      if l.startswith('กระทรวง') or l.startswith('องค์การ'):\n",
        "        ministry = l.split(' ')[0]\n",
        "        ministries.append(ministry)\n",
        "\n",
        "      if re.match('\\(\\d+', l):\n",
        "        if department:\n",
        "          page_rage.append(department)\n",
        "        start_page = [x for x in l.split(\" \") if x.isdigit()]\n",
        "        if start_page:\n",
        "          start_page = l.find(start_page[0]) - 1\n",
        "        else:\n",
        "          start_page = -1\n",
        "        department = ministry + ',' + l[l.find(') ')+2:start_page]\n",
        "      if ('7. รายละ' in l or '8. รายงานสถานะ' in l):\n",
        "        department += ',' + l.split(' ')[-1]\n",
        "\n",
        "  page_rage.append(department)\n",
        "  info['PAGE_RANGE'] = page_rage\n",
        "  info['INDEX_PAGE'] = id_pages\n",
        "  info['MINISTRY'] = ministries\n",
        "  \n",
        "  return info\n",
        "\n",
        "info = get_doc_info()"
      ],
      "execution_count": 72,
      "outputs": []
    },
    {
      "cell_type": "code",
      "metadata": {
        "colab": {
          "base_uri": "https://localhost:8080/"
        },
        "id": "Fc_z2zOHcIEm",
        "outputId": "3bd0afbd-fba6-41f7-d4b5-69113b83cd74"
      },
      "source": [
        "info"
      ],
      "execution_count": 73,
      "outputs": [
        {
          "output_type": "execute_result",
          "data": {
            "text/plain": [
              "{'FY': 2022,\n",
              " 'INDEX_PAGE': [4, 5, 6, 7, 8, 9, 10, 11],\n",
              " 'MINISTRY': ['กระทรวงคมนาคม', 'กระทรวงดิจิทัลเพื่อเศรษฐกิจและสังคม'],\n",
              " 'PAGE_RANGE': ['กระทรวงคมนาคม,สำนักงานปลัดกระทรวงคมนาคม,14,30',\n",
              "  'กระทรวงคมนาคม,กรมการขนส่งทางบก,35,60',\n",
              "  'กระทรวงคมนาคม,กรมการขนส่งทางราง,66,74',\n",
              "  'กระทรวงคมนาคม,กรมเจ้าท่า,81,112',\n",
              "  'กระทรวงคมนาคม,กรมทางหลวง,118,328',\n",
              "  'กระทรวงคมนาคม,กรมทางหลวงชนบท,335,450',\n",
              "  'กระทรวงคมนาคม,กรมท่าอากาศยาน,455,481',\n",
              "  'กระทรวงคมนาคม,สำนักงานนโยบายและแผนการขนส่งและจราจร,487,500',\n",
              "  'กระทรวงดิจิทัลเพื่อเศรษฐกิจและสังคม,สำนักงานปลัดกระทรวงดิจิทัลเพื่อเศรษฐกิจและสังคม,517,539',\n",
              "  'กระทรวงดิจิทัลเพื่อเศรษฐกิจและสังคม,กรมอุตุนิยมวิทยา,546,581',\n",
              "  'กระทรวงดิจิทัลเพื่อเศรษฐกิจและสังคม,สำนักงานคณะกรรมการดิจิทัลเพื่อเศรษฐกิจและสังคมแห่งชาต ิ,590,610',\n",
              "  'กระทรวงดิจิทัลเพื่อเศรษฐกิจและสังคม,สำนักงานสถิติแห่งชาติ,616,631',\n",
              "  'กระทรวงดิจิทัลเพื่อเศรษฐกิจและสังคม,สำนักงานพัฒนาธุรกรรมทางอิเล็กทรอนิกส์,642,656',\n",
              "  'กระทรวงดิจิทัลเพื่อเศรษฐกิจและสังคม,สำนักงานส่งเสริมเศรษฐกิจดิจิทัล,668,712'],\n",
              " 'ฉบับ': 3,\n",
              " 'เล่ม': 5}"
            ]
          },
          "metadata": {
            "tags": []
          },
          "execution_count": 73
        }
      ]
    },
    {
      "cell_type": "code",
      "metadata": {
        "id": "Ioj9cd2fUuzQ"
      },
      "source": [
        "def get_rage_in_ranges(sid, start, end):\n",
        "  all_pages = [get_text_from_page(p) for p in range(len(pdf.pages))]\n",
        "  start += sid\n",
        "  end += sid\n",
        "  dict_of_range = {i : _ for i, _ in enumerate(all_pages) if _ and ('หน่วย : ลา้นบาท' not in _ and\n",
        "                                              '7. รายละ' not in _ and\n",
        "                                              '7.2  แผนงาน' not in _ and\n",
        "                                              'วัตถุประสงค์' not in _ and\n",
        "                                              'หน่วยนับ' not in _ and i >= start and i < end\n",
        "                                              )\n",
        "  }\n",
        "  return dict_of_range"
      ],
      "execution_count": 94,
      "outputs": []
    },
    {
      "cell_type": "code",
      "metadata": {
        "colab": {
          "base_uri": "https://localhost:8080/"
        },
        "id": "mTgYLa_TSN9m",
        "outputId": "828d57fc-20f9-4b3a-ea54-3163c01a4b0c"
      },
      "source": [
        "list(get_content_in_range(ids_id[-1],17,31).keys())"
      ],
      "execution_count": null,
      "outputs": [
        {
          "output_type": "execute_result",
          "data": {
            "text/plain": [
              "[28, 29, 30, 31, 32, 34, 36, 38, 40]"
            ]
          },
          "metadata": {
            "tags": []
          },
          "execution_count": 36
        }
      ]
    },
    {
      "cell_type": "code",
      "metadata": {
        "id": "MfcZJcb2IE72"
      },
      "source": [
        "def get_range():\n",
        "  prev = ''\n",
        "  r = {}\n",
        "  smd = {}\n",
        "  for x in info['PAGE_RANGE']:\n",
        "    m, sm, s, e = x.split(',')\n",
        "    lts = list(get_rage_in_ranges(info['INDEX_PAGE'][-1], int(s), int(e)).keys())\n",
        "    if prev and prev == m:\n",
        "      smd[sm] = lts\n",
        "      r[m] = smd\n",
        "    else:\n",
        "      prev = m\n",
        "      smd = {}\n",
        "      smd[sm] = lts\n",
        "  return r"
      ],
      "execution_count": 144,
      "outputs": []
    },
    {
      "cell_type": "code",
      "metadata": {
        "id": "04-gF8maP9Xq"
      },
      "source": [
        "dic = get_range()\n",
        "for mi in dic:\n",
        "  print(mi)\n",
        "  for budmi in dic[mi]:\n",
        "    print(budmi)\n",
        "    for i in dic[mi][budmi]:\n",
        "      print(get_text_from_page(i))"
      ],
      "execution_count": null,
      "outputs": []
    },
    {
      "cell_type": "code",
      "metadata": {
        "colab": {
          "base_uri": "https://localhost:8080/"
        },
        "id": "F0_JYSqpIiC6",
        "outputId": "29708d2c-f670-41bd-f0a8-fb2515c61676"
      },
      "source": [
        "info"
      ],
      "execution_count": 88,
      "outputs": [
        {
          "output_type": "execute_result",
          "data": {
            "text/plain": [
              "{'FY': 2022,\n",
              " 'INDEX_PAGE': [4, 5, 6, 7, 8, 9, 10, 11],\n",
              " 'MINISTRY': ['กระทรวงคมนาคม', 'กระทรวงดิจิทัลเพื่อเศรษฐกิจและสังคม'],\n",
              " 'PAGE_RANGE': ['กระทรวงคมนาคม,สำนักงานปลัดกระทรวงคมนาคม,14,30',\n",
              "  'กระทรวงคมนาคม,กรมการขนส่งทางบก,35,60',\n",
              "  'กระทรวงคมนาคม,กรมการขนส่งทางราง,66,74',\n",
              "  'กระทรวงคมนาคม,กรมเจ้าท่า,81,112',\n",
              "  'กระทรวงคมนาคม,กรมทางหลวง,118,328',\n",
              "  'กระทรวงคมนาคม,กรมทางหลวงชนบท,335,450',\n",
              "  'กระทรวงคมนาคม,กรมท่าอากาศยาน,455,481',\n",
              "  'กระทรวงคมนาคม,สำนักงานนโยบายและแผนการขนส่งและจราจร,487,500',\n",
              "  'กระทรวงดิจิทัลเพื่อเศรษฐกิจและสังคม,สำนักงานปลัดกระทรวงดิจิทัลเพื่อเศรษฐกิจและสังคม,517,539',\n",
              "  'กระทรวงดิจิทัลเพื่อเศรษฐกิจและสังคม,กรมอุตุนิยมวิทยา,546,581',\n",
              "  'กระทรวงดิจิทัลเพื่อเศรษฐกิจและสังคม,สำนักงานคณะกรรมการดิจิทัลเพื่อเศรษฐกิจและสังคมแห่งชาต ิ,590,610',\n",
              "  'กระทรวงดิจิทัลเพื่อเศรษฐกิจและสังคม,สำนักงานสถิติแห่งชาติ,616,631',\n",
              "  'กระทรวงดิจิทัลเพื่อเศรษฐกิจและสังคม,สำนักงานพัฒนาธุรกรรมทางอิเล็กทรอนิกส์,642,656',\n",
              "  'กระทรวงดิจิทัลเพื่อเศรษฐกิจและสังคม,สำนักงานส่งเสริมเศรษฐกิจดิจิทัล,668,712'],\n",
              " 'ฉบับ': 3,\n",
              " 'เล่ม': 5}"
            ]
          },
          "metadata": {
            "tags": []
          },
          "execution_count": 88
        }
      ]
    },
    {
      "cell_type": "code",
      "metadata": {
        "id": "NyHJD4xpXawg"
      },
      "source": [
        "print()"
      ],
      "execution_count": null,
      "outputs": []
    }
  ]
}